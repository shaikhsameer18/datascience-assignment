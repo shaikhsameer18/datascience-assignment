{
  "nbformat": 4,
  "nbformat_minor": 0,
  "metadata": {
    "colab": {
      "provenance": []
    },
    "kernelspec": {
      "name": "python3",
      "display_name": "Python 3"
    },
    "language_info": {
      "name": "python"
    }
  },
  "cells": [
    {
      "cell_type": "code",
      "execution_count": 1,
      "metadata": {
        "colab": {
          "base_uri": "https://localhost:8080/"
        },
        "id": "vGorEJPdQG04",
        "outputId": "91ec1969-2876-461f-cec2-a85e0de9c799"
      },
      "outputs": [
        {
          "output_type": "stream",
          "name": "stdout",
          "text": [
            "Requirement already satisfied: pandas in /usr/local/lib/python3.11/dist-packages (2.2.2)\n",
            "Requirement already satisfied: matplotlib in /usr/local/lib/python3.11/dist-packages (3.10.0)\n",
            "Requirement already satisfied: seaborn in /usr/local/lib/python3.11/dist-packages (0.13.2)\n",
            "Requirement already satisfied: scikit-learn in /usr/local/lib/python3.11/dist-packages (1.6.1)\n",
            "Collecting reportlab\n",
            "  Downloading reportlab-4.2.5-py3-none-any.whl.metadata (1.5 kB)\n",
            "Requirement already satisfied: numpy>=1.23.2 in /usr/local/lib/python3.11/dist-packages (from pandas) (1.26.4)\n",
            "Requirement already satisfied: python-dateutil>=2.8.2 in /usr/local/lib/python3.11/dist-packages (from pandas) (2.8.2)\n",
            "Requirement already satisfied: pytz>=2020.1 in /usr/local/lib/python3.11/dist-packages (from pandas) (2024.2)\n",
            "Requirement already satisfied: tzdata>=2022.7 in /usr/local/lib/python3.11/dist-packages (from pandas) (2025.1)\n",
            "Requirement already satisfied: contourpy>=1.0.1 in /usr/local/lib/python3.11/dist-packages (from matplotlib) (1.3.1)\n",
            "Requirement already satisfied: cycler>=0.10 in /usr/local/lib/python3.11/dist-packages (from matplotlib) (0.12.1)\n",
            "Requirement already satisfied: fonttools>=4.22.0 in /usr/local/lib/python3.11/dist-packages (from matplotlib) (4.55.4)\n",
            "Requirement already satisfied: kiwisolver>=1.3.1 in /usr/local/lib/python3.11/dist-packages (from matplotlib) (1.4.8)\n",
            "Requirement already satisfied: packaging>=20.0 in /usr/local/lib/python3.11/dist-packages (from matplotlib) (24.2)\n",
            "Requirement already satisfied: pillow>=8 in /usr/local/lib/python3.11/dist-packages (from matplotlib) (11.1.0)\n",
            "Requirement already satisfied: pyparsing>=2.3.1 in /usr/local/lib/python3.11/dist-packages (from matplotlib) (3.2.1)\n",
            "Requirement already satisfied: scipy>=1.6.0 in /usr/local/lib/python3.11/dist-packages (from scikit-learn) (1.13.1)\n",
            "Requirement already satisfied: joblib>=1.2.0 in /usr/local/lib/python3.11/dist-packages (from scikit-learn) (1.4.2)\n",
            "Requirement already satisfied: threadpoolctl>=3.1.0 in /usr/local/lib/python3.11/dist-packages (from scikit-learn) (3.5.0)\n",
            "Requirement already satisfied: chardet in /usr/local/lib/python3.11/dist-packages (from reportlab) (5.2.0)\n",
            "Requirement already satisfied: six>=1.5 in /usr/local/lib/python3.11/dist-packages (from python-dateutil>=2.8.2->pandas) (1.17.0)\n",
            "Downloading reportlab-4.2.5-py3-none-any.whl (1.9 MB)\n",
            "\u001b[2K   \u001b[90m━━━━━━━━━━━━━━━━━━━━━━━━━━━━━━━━━━━━━━━━\u001b[0m \u001b[32m1.9/1.9 MB\u001b[0m \u001b[31m17.4 MB/s\u001b[0m eta \u001b[36m0:00:00\u001b[0m\n",
            "\u001b[?25hInstalling collected packages: reportlab\n",
            "Successfully installed reportlab-4.2.5\n"
          ]
        }
      ],
      "source": [
        "!pip install pandas matplotlib seaborn scikit-learn reportlab"
      ]
    },
    {
      "cell_type": "code",
      "source": [
        "from google.colab import drive\n",
        "drive.mount('/content/drive')"
      ],
      "metadata": {
        "colab": {
          "base_uri": "https://localhost:8080/"
        },
        "id": "Un-xem1lcuOr",
        "outputId": "97597dfa-2205-4f12-8ed0-a029986d0a51"
      },
      "execution_count": 2,
      "outputs": [
        {
          "output_type": "stream",
          "name": "stdout",
          "text": [
            "Mounted at /content/drive\n"
          ]
        }
      ]
    },
    {
      "cell_type": "code",
      "source": [
        "import pandas as pd\n",
        "import matplotlib.pyplot as plt\n",
        "from reportlab.lib.pagesizes import letter\n",
        "from reportlab.pdfgen import canvas\n",
        "import seaborn as sns\n",
        "from datetime import datetime"
      ],
      "metadata": {
        "id": "w6FG3_cjQi_B"
      },
      "execution_count": 3,
      "outputs": []
    },
    {
      "cell_type": "code",
      "source": [
        "sns.set(style=\"whitegrid\")"
      ],
      "metadata": {
        "id": "k6QGwDZZQ9Ks"
      },
      "execution_count": 4,
      "outputs": []
    },
    {
      "cell_type": "code",
      "source": [
        "customers_path = \"/content/drive/My Drive/data/Customers.csv\"\n",
        "products_path = \"/content/drive/My Drive/data/Products.csv\"\n",
        "transactions_path = \"/content/drive/My Drive/data/Transactions.csv\""
      ],
      "metadata": {
        "id": "53T3HeaiY6dT"
      },
      "execution_count": 5,
      "outputs": []
    },
    {
      "cell_type": "code",
      "source": [
        "# Load datasets\n",
        "customers = pd.read_csv(customers_path)\n",
        "products = pd.read_csv(products_path)\n",
        "transactions = pd.read_csv(transactions_path)"
      ],
      "metadata": {
        "id": "Dus0yvu9RANu"
      },
      "execution_count": 6,
      "outputs": []
    },
    {
      "cell_type": "code",
      "source": [
        "# Preview datasets\n",
        "print(\"Customers Dataset:\")\n",
        "print(customers.head(), \"\\n\")\n",
        "\n",
        "print(\"Products Dataset:\")\n",
        "print(products.head(), \"\\n\")\n",
        "\n",
        "print(\"Transactions Dataset:\")\n",
        "print(transactions.head(), \"\\n\")"
      ],
      "metadata": {
        "colab": {
          "base_uri": "https://localhost:8080/"
        },
        "id": "Cr7o1AwORc8k",
        "outputId": "cf567fa4-2e98-4f61-f7ff-3cfb883b4758"
      },
      "execution_count": 7,
      "outputs": [
        {
          "output_type": "stream",
          "name": "stdout",
          "text": [
            "Customers Dataset:\n",
            "  CustomerID        CustomerName         Region  SignupDate\n",
            "0      C0001    Lawrence Carroll  South America  2022-07-10\n",
            "1      C0002      Elizabeth Lutz           Asia  2022-02-13\n",
            "2      C0003      Michael Rivera  South America  2024-03-07\n",
            "3      C0004  Kathleen Rodriguez  South America  2022-10-09\n",
            "4      C0005         Laura Weber           Asia  2022-08-15 \n",
            "\n",
            "Products Dataset:\n",
            "  ProductID              ProductName     Category   Price\n",
            "0      P001     ActiveWear Biography        Books  169.30\n",
            "1      P002    ActiveWear Smartwatch  Electronics  346.30\n",
            "2      P003  ComfortLiving Biography        Books   44.12\n",
            "3      P004            BookWorld Rug   Home Decor   95.69\n",
            "4      P005          TechPro T-Shirt     Clothing  429.31 \n",
            "\n",
            "Transactions Dataset:\n",
            "  TransactionID CustomerID ProductID      TransactionDate  Quantity  \\\n",
            "0        T00001      C0199      P067  2024-08-25 12:38:23         1   \n",
            "1        T00112      C0146      P067  2024-05-27 22:23:54         1   \n",
            "2        T00166      C0127      P067  2024-04-25 07:38:55         1   \n",
            "3        T00272      C0087      P067  2024-03-26 22:55:37         2   \n",
            "4        T00363      C0070      P067  2024-03-21 15:10:10         3   \n",
            "\n",
            "   TotalValue   Price  \n",
            "0      300.68  300.68  \n",
            "1      300.68  300.68  \n",
            "2      300.68  300.68  \n",
            "3      601.36  300.68  \n",
            "4      902.04  300.68   \n",
            "\n"
          ]
        }
      ]
    },
    {
      "cell_type": "code",
      "source": [
        "# --- Data Cleaning ---\n",
        "# Checking for missing values\n",
        "print(\"Missing Values in Datasets:\")\n",
        "print(\"Customers:\", customers.isnull().sum(), \"\\n\")\n",
        "print(\"Products:\", products.isnull().sum(), \"\\n\")\n",
        "print(\"Transactions:\", transactions.isnull().sum(), \"\\n\")\n",
        "\n",
        "# Check data types\n",
        "print(\"Data Types:\")\n",
        "print(\"Customers:\", customers.dtypes, \"\\n\")\n",
        "print(\"Products:\", products.dtypes, \"\\n\")\n",
        "print(\"Transactions:\", transactions.dtypes, \"\\n\")\n",
        "\n",
        "# Convert dates to datetime format\n",
        "customers[\"SignupDate\"] = pd.to_datetime(customers[\"SignupDate\"], errors='coerce')\n",
        "transactions[\"TransactionDate\"] = pd.to_datetime(transactions[\"TransactionDate\"], errors='coerce')"
      ],
      "metadata": {
        "colab": {
          "base_uri": "https://localhost:8080/"
        },
        "id": "ZTiW1WEDRf7O",
        "outputId": "9d427221-aca9-4a4c-eaaa-20801691079d"
      },
      "execution_count": 8,
      "outputs": [
        {
          "output_type": "stream",
          "name": "stdout",
          "text": [
            "Missing Values in Datasets:\n",
            "Customers: CustomerID      0\n",
            "CustomerName    0\n",
            "Region          0\n",
            "SignupDate      0\n",
            "dtype: int64 \n",
            "\n",
            "Products: ProductID      0\n",
            "ProductName    0\n",
            "Category       0\n",
            "Price          0\n",
            "dtype: int64 \n",
            "\n",
            "Transactions: TransactionID      0\n",
            "CustomerID         0\n",
            "ProductID          0\n",
            "TransactionDate    0\n",
            "Quantity           0\n",
            "TotalValue         0\n",
            "Price              0\n",
            "dtype: int64 \n",
            "\n",
            "Data Types:\n",
            "Customers: CustomerID      object\n",
            "CustomerName    object\n",
            "Region          object\n",
            "SignupDate      object\n",
            "dtype: object \n",
            "\n",
            "Products: ProductID       object\n",
            "ProductName     object\n",
            "Category        object\n",
            "Price          float64\n",
            "dtype: object \n",
            "\n",
            "Transactions: TransactionID       object\n",
            "CustomerID          object\n",
            "ProductID           object\n",
            "TransactionDate     object\n",
            "Quantity             int64\n",
            "TotalValue         float64\n",
            "Price              float64\n",
            "dtype: object \n",
            "\n"
          ]
        }
      ]
    },
    {
      "cell_type": "code",
      "source": [
        "# Generate PDF for Business Insights\n",
        "pdf_path = \"/content/drive/My Drive/outputs/Sameer_Ahmed_EDA.pdf\"\n",
        "pdf = canvas.Canvas(pdf_path, pagesize=letter)\n",
        "pdf.setTitle(\"EDA and Business Insights\")\n",
        "pdf.setFont(\"Helvetica-Bold\", 16)\n",
        "pdf.drawString(100, 750, \"EDA and Business Insights\")\n",
        "pdf.setFont(\"Helvetica\", 12)"
      ],
      "metadata": {
        "id": "xVvRc6MLZDLj"
      },
      "execution_count": 9,
      "outputs": []
    },
    {
      "cell_type": "code",
      "source": [
        "# 1. Customer Signups Over Time\n",
        "customers[\"SignupYear\"] = customers[\"SignupDate\"].dt.year\n",
        "signup_counts = customers[\"SignupYear\"].value_counts().sort_index()\n",
        "\n",
        "plt.figure(figsize=(10, 5))\n",
        "sns.barplot(x=signup_counts.index, y=signup_counts.values, palette=\"viridis\")\n",
        "plt.title(\"Customer Signups Over Time\")\n",
        "plt.xlabel(\"Year\")\n",
        "plt.ylabel(\"Number of Signups\")\n",
        "plt.savefig(\"/content/drive/My Drive/outputs/signup_counts.png\")\n",
        "plt.close()\n",
        "\n",
        "pdf.drawString(100, 720, \"1. Customer Signups Over Time:\")\n",
        "pdf.drawImage(\"/content/drive/My Drive/outputs/signup_counts.png\", 100, 500, width=400, height=200)\n"
      ],
      "metadata": {
        "colab": {
          "base_uri": "https://localhost:8080/"
        },
        "id": "kdmmNoX3Rjew",
        "outputId": "ca848186-1245-4731-8449-ca6fb997feb0"
      },
      "execution_count": 10,
      "outputs": [
        {
          "output_type": "stream",
          "name": "stderr",
          "text": [
            "<ipython-input-10-56366ab93683>:6: FutureWarning: \n",
            "\n",
            "Passing `palette` without assigning `hue` is deprecated and will be removed in v0.14.0. Assign the `x` variable to `hue` and set `legend=False` for the same effect.\n",
            "\n",
            "  sns.barplot(x=signup_counts.index, y=signup_counts.values, palette=\"viridis\")\n"
          ]
        },
        {
          "output_type": "execute_result",
          "data": {
            "text/plain": [
              "(1000, 500)"
            ]
          },
          "metadata": {},
          "execution_count": 10
        }
      ]
    },
    {
      "cell_type": "code",
      "source": [
        "# 2. Most Popular Product Categories\n",
        "category_counts = products[\"Category\"].value_counts()\n",
        "\n",
        "plt.figure(figsize=(10, 5))\n",
        "sns.barplot(x=category_counts.index, y=category_counts.values, palette=\"magma\")\n",
        "plt.title(\"Most Popular Product Categories\")\n",
        "plt.xlabel(\"Category\")\n",
        "plt.ylabel(\"Count\")\n",
        "plt.savefig(\"/content/drive/My Drive/outputs/category_counts.png\")\n",
        "plt.close()\n",
        "\n",
        "pdf.drawString(100, 460, \"2. Most Popular Product Categories:\")\n",
        "pdf.drawImage(\"/content/drive/My Drive/outputs/category_counts.png\", 100, 240, width=400, height=200)\n"
      ],
      "metadata": {
        "colab": {
          "base_uri": "https://localhost:8080/"
        },
        "id": "P-zWcKfDRmai",
        "outputId": "66ded44c-0c7d-4827-fef1-2a45c8f3f322"
      },
      "execution_count": 11,
      "outputs": [
        {
          "output_type": "stream",
          "name": "stderr",
          "text": [
            "<ipython-input-11-52269b8c1f94>:5: FutureWarning: \n",
            "\n",
            "Passing `palette` without assigning `hue` is deprecated and will be removed in v0.14.0. Assign the `x` variable to `hue` and set `legend=False` for the same effect.\n",
            "\n",
            "  sns.barplot(x=category_counts.index, y=category_counts.values, palette=\"magma\")\n"
          ]
        },
        {
          "output_type": "execute_result",
          "data": {
            "text/plain": [
              "(1000, 500)"
            ]
          },
          "metadata": {},
          "execution_count": 11
        }
      ]
    },
    {
      "cell_type": "code",
      "source": [
        "# 3. Revenue Over Time\n",
        "transactions[\"YearMonth\"] = transactions[\"TransactionDate\"].dt.to_period(\"M\")\n",
        "monthly_revenue = transactions.groupby(\"YearMonth\")[\"TotalValue\"].sum()\n",
        "\n",
        "plt.figure(figsize=(10, 5))\n",
        "monthly_revenue.plot(kind=\"line\", marker=\"o\", color=\"blue\")\n",
        "plt.title(\"Monthly Revenue Trend\")\n",
        "plt.xlabel(\"Month\")\n",
        "plt.ylabel(\"Total Revenue (USD)\")\n",
        "plt.grid(True)\n",
        "plt.savefig(\"/content/drive/My Drive/outputs/monthly_revenue.png\")\n",
        "plt.close()\n",
        "\n",
        "pdf.drawString(100, 220, \"3. Monthly Revenue Trend:\")\n",
        "pdf.drawImage(\"/content/drive/My Drive/outputs/monthly_revenue.png\", 100, 40, width=400, height=200)\n"
      ],
      "metadata": {
        "colab": {
          "base_uri": "https://localhost:8080/"
        },
        "id": "ZGMi8UhqRohE",
        "outputId": "97dc663a-80dc-4299-ba37-ba07bd9c8c3b"
      },
      "execution_count": 12,
      "outputs": [
        {
          "output_type": "execute_result",
          "data": {
            "text/plain": [
              "(1000, 500)"
            ]
          },
          "metadata": {},
          "execution_count": 12
        }
      ]
    },
    {
      "cell_type": "code",
      "source": [
        "pdf.showPage()"
      ],
      "metadata": {
        "id": "sR_RzRogcR-7"
      },
      "execution_count": 13,
      "outputs": []
    },
    {
      "cell_type": "code",
      "source": [
        "# 4. Customer Region Analysis\n",
        "region_counts = customers[\"Region\"].value_counts()\n",
        "\n",
        "plt.figure(figsize=(8, 5))\n",
        "region_counts.plot(kind=\"pie\", autopct=\"%1.1f%%\", startangle=140, colors=sns.color_palette(\"pastel\"))\n",
        "plt.title(\"Customer Distribution by Region\")\n",
        "plt.ylabel(\"\")\n",
        "plt.savefig(\"/content/drive/My Drive/outputs/customer_region_distribution.png\")\n",
        "plt.close()\n",
        "\n",
        "pdf.drawString(100, 720, \"4. Customer Distribution by Region:\")\n",
        "pdf.drawImage(\"/content/drive/My Drive/outputs/customer_region_distribution.png\", 100, 500, width=400, height=200)\n"
      ],
      "metadata": {
        "colab": {
          "base_uri": "https://localhost:8080/"
        },
        "id": "_aQcmnreRqCK",
        "outputId": "0f65bd83-34ba-4505-b1d8-bc75c304b878"
      },
      "execution_count": 14,
      "outputs": [
        {
          "output_type": "execute_result",
          "data": {
            "text/plain": [
              "(800, 500)"
            ]
          },
          "metadata": {},
          "execution_count": 14
        }
      ]
    },
    {
      "cell_type": "code",
      "source": [
        "# 5. Top Customers by Spending\n",
        "customer_spending = transactions.groupby(\"CustomerID\")[\"TotalValue\"].sum().sort_values(ascending=False).head(10)\n",
        "\n",
        "plt.figure(figsize=(10, 5))\n",
        "sns.barplot(x=customer_spending.index, y=customer_spending.values, palette=\"coolwarm\")\n",
        "plt.title(\"Top 10 Customers by Total Spending\")\n",
        "plt.xlabel(\"CustomerID\")\n",
        "plt.ylabel(\"Total Spending (USD)\")\n",
        "plt.xticks(rotation=45)\n",
        "plt.savefig(\"/content/drive/My Drive/outputs/top_customers_spending.png\")\n",
        "plt.close()\n",
        "\n",
        "pdf.drawString(100, 220, \"5. Top 10 Customers by Total Spending:\")\n",
        "pdf.drawImage(\"/content/drive/My Drive/outputs/top_customers_spending.png\", 100, 40, width=400, height=200)\n"
      ],
      "metadata": {
        "colab": {
          "base_uri": "https://localhost:8080/"
        },
        "id": "3HyeZqkoRrjS",
        "outputId": "ca96dc99-5dbd-494d-cd47-87385dfd1ea5"
      },
      "execution_count": 15,
      "outputs": [
        {
          "output_type": "stream",
          "name": "stderr",
          "text": [
            "<ipython-input-15-c69295b1a3bb>:5: FutureWarning: \n",
            "\n",
            "Passing `palette` without assigning `hue` is deprecated and will be removed in v0.14.0. Assign the `x` variable to `hue` and set `legend=False` for the same effect.\n",
            "\n",
            "  sns.barplot(x=customer_spending.index, y=customer_spending.values, palette=\"coolwarm\")\n"
          ]
        },
        {
          "output_type": "execute_result",
          "data": {
            "text/plain": [
              "(1000, 500)"
            ]
          },
          "metadata": {},
          "execution_count": 15
        }
      ]
    },
    {
      "cell_type": "code",
      "source": [
        "pdf.save()\n",
        "print(f\"Business insights PDF saved at {pdf_path}.\")\n",
        "\n",
        "# Save cleaned data\n",
        "customers.to_csv(\"/content/drive/My Drive/data/Cleaned_Customers.csv\", index=False)\n",
        "products.to_csv(\"/content/drive/My Drive/data/Cleaned_Products.csv\", index=False)\n",
        "transactions.to_csv(\"/content/drive/My Drive/data/Cleaned_Transactions.csv\", index=False)\n",
        "\n",
        "print(\"EDA Completed. Business insights generated.\")\n"
      ],
      "metadata": {
        "colab": {
          "base_uri": "https://localhost:8080/"
        },
        "id": "mbLE-EQeRtDd",
        "outputId": "6b04efda-5824-4e22-d700-cbf07b1f5df9"
      },
      "execution_count": 16,
      "outputs": [
        {
          "output_type": "stream",
          "name": "stdout",
          "text": [
            "Business insights PDF saved at /content/drive/My Drive/outputs/Sameer_Ahmed_EDA.pdf.\n",
            "EDA Completed. Business insights generated.\n"
          ]
        }
      ]
    }
  ]
}