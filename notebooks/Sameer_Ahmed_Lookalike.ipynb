{
  "nbformat": 4,
  "nbformat_minor": 0,
  "metadata": {
    "colab": {
      "provenance": []
    },
    "kernelspec": {
      "name": "python3",
      "display_name": "Python 3"
    },
    "language_info": {
      "name": "python"
    }
  },
  "cells": [
    {
      "cell_type": "code",
      "execution_count": 33,
      "metadata": {
        "colab": {
          "base_uri": "https://localhost:8080/"
        },
        "id": "728Sxx8KTqAy",
        "outputId": "b42dc49e-d3a9-40f1-ff7a-43af5754d2f7"
      },
      "outputs": [
        {
          "output_type": "stream",
          "name": "stdout",
          "text": [
            "Drive already mounted at /content/drive; to attempt to forcibly remount, call drive.mount(\"/content/drive\", force_remount=True).\n"
          ]
        }
      ],
      "source": [
        "from google.colab import drive\n",
        "drive.mount('/content/drive')"
      ]
    },
    {
      "cell_type": "code",
      "source": [
        "import pandas as pd\n",
        "from sklearn.metrics.pairwise import cosine_similarity\n",
        "from sklearn.preprocessing import StandardScaler"
      ],
      "metadata": {
        "id": "09qQeVAYUFd0"
      },
      "execution_count": 34,
      "outputs": []
    },
    {
      "cell_type": "code",
      "source": [
        "customers_path = \"/content/drive/My Drive/data/Customers.csv\"\n",
        "products_path = \"/content/drive/My Drive/data/Products.csv\"\n",
        "transactions_path = \"/content/drive/My Drive/data/Transactions.csv\""
      ],
      "metadata": {
        "id": "c1ZzcwVrTsnd"
      },
      "execution_count": 35,
      "outputs": []
    },
    {
      "cell_type": "code",
      "source": [
        "customers = pd.read_csv(customers_path)\n",
        "products = pd.read_csv(products_path)\n",
        "transactions = pd.read_csv(transactions_path)"
      ],
      "metadata": {
        "id": "E0cZ-IZcUpOr"
      },
      "execution_count": 36,
      "outputs": []
    },
    {
      "cell_type": "code",
      "source": [
        "print(customers.head())\n",
        "print(products.head())\n",
        "print(transactions.head())\n"
      ],
      "metadata": {
        "colab": {
          "base_uri": "https://localhost:8080/"
        },
        "id": "In0XifadUYhk",
        "outputId": "7e44291f-f30f-42d4-de2c-9575b74febc5"
      },
      "execution_count": 37,
      "outputs": [
        {
          "output_type": "stream",
          "name": "stdout",
          "text": [
            "  CustomerID        CustomerName         Region  SignupDate\n",
            "0      C0001    Lawrence Carroll  South America  2022-07-10\n",
            "1      C0002      Elizabeth Lutz           Asia  2022-02-13\n",
            "2      C0003      Michael Rivera  South America  2024-03-07\n",
            "3      C0004  Kathleen Rodriguez  South America  2022-10-09\n",
            "4      C0005         Laura Weber           Asia  2022-08-15\n",
            "  ProductID              ProductName     Category   Price\n",
            "0      P001     ActiveWear Biography        Books  169.30\n",
            "1      P002    ActiveWear Smartwatch  Electronics  346.30\n",
            "2      P003  ComfortLiving Biography        Books   44.12\n",
            "3      P004            BookWorld Rug   Home Decor   95.69\n",
            "4      P005          TechPro T-Shirt     Clothing  429.31\n",
            "  TransactionID CustomerID ProductID      TransactionDate  Quantity  \\\n",
            "0        T00001      C0199      P067  2024-08-25 12:38:23         1   \n",
            "1        T00112      C0146      P067  2024-05-27 22:23:54         1   \n",
            "2        T00166      C0127      P067  2024-04-25 07:38:55         1   \n",
            "3        T00272      C0087      P067  2024-03-26 22:55:37         2   \n",
            "4        T00363      C0070      P067  2024-03-21 15:10:10         3   \n",
            "\n",
            "   TotalValue   Price  \n",
            "0      300.68  300.68  \n",
            "1      300.68  300.68  \n",
            "2      300.68  300.68  \n",
            "3      601.36  300.68  \n",
            "4      902.04  300.68  \n"
          ]
        }
      ]
    },
    {
      "cell_type": "code",
      "source": [
        "# Merge transactions with customer and product data\n",
        "transactions = transactions.merge(customers, on=\"CustomerID\", how=\"left\")\n",
        "transactions = transactions.merge(products, on=\"ProductID\", how=\"left\")\n",
        "\n",
        "# Create a customer-product matrix\n",
        "customer_product_matrix = transactions.pivot_table(index=\"CustomerID\", columns=\"ProductID\", values=\"Quantity\", aggfunc=\"sum\", fill_value=0)\n",
        "\n",
        "# Standardize the matrix\n",
        "scaler = StandardScaler()\n",
        "customer_product_matrix_scaled = scaler.fit_transform(customer_product_matrix)\n",
        "\n",
        "# --- Lookalike Model ---\n",
        "# Compute cosine similarity\n",
        "similarity_matrix = cosine_similarity(customer_product_matrix_scaled)\n",
        "similarity_df = pd.DataFrame(similarity_matrix, index=customer_product_matrix.index, columns=customer_product_matrix.index)"
      ],
      "metadata": {
        "id": "9hMI_O4ZT94-"
      },
      "execution_count": 38,
      "outputs": []
    },
    {
      "cell_type": "code",
      "source": [
        "# --- Generate Recommendations ---\n",
        "lookalike_results = {}\n",
        "for customer_id in similarity_df.index[:20]:  # First 20 customers\n",
        "    similar_customers = similarity_df[customer_id].sort_values(ascending=False)[1:4]  # Top 3 lookalikes\n",
        "    lookalike_results[customer_id] = list(zip(similar_customers.index, similar_customers.values))\n",
        "\n",
        "# Save results to Lookalike.csv\n",
        "lookalike_df = pd.DataFrame([\n",
        "    {\"CustomerID\": customer_id, \"Lookalike_Customers\": lookalikes}\n",
        "    for customer_id, lookalikes in lookalike_results.items()\n",
        "])\n",
        "lookalike_df.to_csv(\"/content/drive/My Drive/outputs/Sameer_Ahmed_Lookalike.csv\", index=False)\n",
        "\n",
        "print(\"Lookalike Model completed and results saved.\")\n"
      ],
      "metadata": {
        "colab": {
          "base_uri": "https://localhost:8080/"
        },
        "id": "83LMncntUPI8",
        "outputId": "ab00d681-83b7-4157-9f18-c5f364264cc4"
      },
      "execution_count": 39,
      "outputs": [
        {
          "output_type": "stream",
          "name": "stdout",
          "text": [
            "Lookalike Model completed and results saved.\n"
          ]
        }
      ]
    }
  ]
}